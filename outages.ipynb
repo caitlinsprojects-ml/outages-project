{
 "cells": [
  {
   "cell_type": "markdown",
   "metadata": {},
   "source": [
    "# Power Outages\n",
    "* **See the main project notebook for instructions to be sure you satisfy the rubric!**\n",
    "* See Project 03 for information on the dataset.\n",
    "* A few example prediction questions to pursue are listed below. However, don't limit yourself to them!\n",
    "    * Predict the severity (number of customers, duration, or demand loss) of a major power outage.\n",
    "    * Predict the cause of a major power outage.\n",
    "    * Predict the number and/or severity of major power outages in the year 2020.\n",
    "    * Predict the electricity consumption of an area.\n",
    "\n",
    "Be careful to justify what information you would know at the \"time of prediction\" and train your model using only those features."
   ]
  },
  {
   "cell_type": "markdown",
   "metadata": {},
   "source": [
    "# Summary of Findings\n",
    "\n",
    "\n",
    "### Introduction\n",
    "Given data on power outages, it would be nice for officials to be able to predict the cause of a power outage so that energy companies and local governement can determine what equipment needs to be upgraded, if infrastructure needs to be reinforced, etc. The unique causes in the outage dataset are: severe weather, intentional attack, system operability disruption, equipment failure, public appeal, fuel supply emergency, and islanding. By being able to accurately predict the cause of the outage officials may be able to combat or at least prepare for new ones and either lessen the impact or totally stop certain power outages from happening. This will be a classification problem, and therfore I will be using accuracy as my main objective benchmark for the best model possible.\n",
    "\n",
    "### Baseline Model\n",
    "In my baseline model I included five features total: two ordinal features, 'CLIMATE.CATEGORY' and 'MONTH', two nominal features, 'CLIMATE.REGION' and 'U.S._STATE', and one quantitative feature 'OUTAGE.HOUR'. We would know this information beforehand as we use demographic and time data to predict the cause of an outage occuring at particular hours before they happen (for example, predicting in June at certain hours what the cause of an outage might be in California in a desert climate with hot weather are all data we would know beforehand). My baseline model split the training and test sets using a 70/30 split and predicted the cause cateogry using a decision tree classifier with no maximum depth. \n",
    "\n",
    "- The training set accuracy score was 0.9879839786381842 and the testing accuracy was 0.6137071651090342, showing that the model overfit to the training data by a large margin. Although, close to 61% accuracy on the test set isn't the worst possible accuracy, so I would say the features do work well enough with predicting the cause of the outage, but adding more features may allow my model to do better. \n",
    "\n",
    "### Final Model\n",
    "In my final model I included all of the original features from my baseline model and added four more quantiative features, 'CUSTOMERS.AFFECTED', 'POPDEN_URBAN', 'POPDEN_UC', and 'POPDEN_RURAL'. I chose to add the population density features because it's likely that the cause of an outage could be directly related to the population density of the area (major usage putting a strain on equipment, for example). I also added the number of customers affected because it's possible that a wider spread outage could be caused by something like severe weather. Generally the cause of an outage isn't know until it has started, so all of these features should be known before a cause has been determined. In my final model I scaled the original baseline features the same using one hot encoding and ordinal encoding, and engineered my new features using the standard scaler to standardize the values.\n",
    "\n",
    "I used a grid search to determine the best maximum depth for the decision tree classifier and trained and tested my data on the best model according to my grid search. \n",
    "- My training set accuracy was 0.8744993324432577 and my test set accuracy was 0.8255451713395638. This is a significant improvement from my baseline model.\n",
    "\n",
    "### Fairness Evaluation\n",
    "For my fairness evaluation I decided to split my test data into more customers affected and less customers affected, splitting by the median number of customers affected in order to keep any outliers from skewing the average. I decided to use the parity measure of precision because a false negative when dealing with something like equipment failure (for example, predicting it's just severe weather) would lead to equipment not being fixed promptly and for the outage to continue on longer than it would if the cause was predicted correctly.\n",
    "\n",
    "My hypothesis for my permutation test are as follows:\n",
    "- Null Hypothesis: my model is fair; the precision for more people affected and less people affected are roughly the same\n",
    "- Alternative Hypothesis: my model is unfair; the precision for the more people affected subset is higher than the less people affected subset\n",
    "\n",
    "When graphing my results, my observed precision score was within the normal range of precision scores, and therefore I can say that in this measure my model is fair."
   ]
  },
  {
   "cell_type": "markdown",
   "metadata": {},
   "source": [
    "# Code"
   ]
  },
  {
   "cell_type": "code",
   "execution_count": 115,
   "metadata": {},
   "outputs": [],
   "source": [
    "import matplotlib.pyplot as plt\n",
    "import numpy as np\n",
    "import os\n",
    "import pandas as pd\n",
    "import seaborn as sns\n",
    "import datetime as dt\n",
    "import warnings\n",
    "warnings.filterwarnings(\"ignore\")\n",
    "%matplotlib inline\n",
    "%config InlineBackend.figure_format = 'retina'  # Higher resolution figures\n",
    "from sklearn.linear_model import LinearRegression\n",
    "from sklearn.preprocessing import OneHotEncoder, OrdinalEncoder, FunctionTransformer, StandardScaler\n",
    "from sklearn.pipeline import Pipeline\n",
    "from sklearn.compose import ColumnTransformer\n",
    "from sklearn.model_selection import train_test_split, GridSearchCV\n",
    "from sklearn.tree import DecisionTreeClassifier"
   ]
  },
  {
   "cell_type": "code",
   "execution_count": 116,
   "metadata": {},
   "outputs": [],
   "source": [
    "# TODO\n",
    "outage = pd.read_excel('data/outage.xlsx')\n",
    "outage = outage.drop(columns=['Major power outage events in the continental U.S.'], axis=1)\n",
    "\n",
    "outage = outage.drop(index=[0,1,2,3], axis=0) # drop np.nan rows befor columns\n",
    "outage.reset_index(inplace=True) # reset index bc of drop above\n",
    "outage = outage.drop(columns=['index']) # drop the index col made from reset above\n",
    "outage.columns = outage.iloc[0] # set cols to first row\n",
    "outage = outage.drop(index=[0,1]) # drop variables row (was just made column so it's unnecessary) and units row (may need units later)\n",
    "outage = outage.set_index('OBS') # set observed outages as index bc its the same index\n",
    "\n",
    "# columns\n",
    "outage['YEAR'] = outage['YEAR'].astype(int) # year has no np.nan, make all int instead of object\n",
    "# outage['ANOMALY.LEVEL'] = outage['ANOMALY.LEVEL'].astype(float) # level should be float\n",
    "outage['POPPCT_URBAN'] = outage['POPPCT_URBAN'].astype(float)\n",
    "\n",
    "def to_date(date, time):\n",
    "    if type(date) != dt.datetime or type(time) != dt.time:\n",
    "        return np.nan\n",
    "    else:\n",
    "        combine = date.combine(date, time)\n",
    "        return combine.strftime('%Y-%m-%d %H:%M:%S')\n",
    "\n",
    "# start date and time\n",
    "listy = []\n",
    "for x,y in zip(outage['OUTAGE.START.DATE'], outage['OUTAGE.START.TIME']):\n",
    "    listy.append(to_date(x,y))\n",
    "outage['OUTAGE.START'] = listy\n",
    "\n",
    "# restoration date and time\n",
    "listy2 = []\n",
    "for x1,y1 in zip(outage['OUTAGE.RESTORATION.DATE'], outage['OUTAGE.RESTORATION.TIME']):\n",
    "    listy2.append(to_date(x1,y1))\n",
    "outage['OUTAGE.RESTORATION'] = listy2\n",
    "\n",
    "# cleaned dataset"
   ]
  },
  {
   "cell_type": "markdown",
   "metadata": {},
   "source": [
    "### Baseline Model"
   ]
  },
  {
   "cell_type": "code",
   "execution_count": 117,
   "metadata": {},
   "outputs": [
    {
     "data": {
      "text/html": [
       "<div>\n",
       "<style scoped>\n",
       "    .dataframe tbody tr th:only-of-type {\n",
       "        vertical-align: middle;\n",
       "    }\n",
       "\n",
       "    .dataframe tbody tr th {\n",
       "        vertical-align: top;\n",
       "    }\n",
       "\n",
       "    .dataframe thead th {\n",
       "        text-align: right;\n",
       "    }\n",
       "</style>\n",
       "<table border=\"1\" class=\"dataframe\">\n",
       "  <thead>\n",
       "    <tr style=\"text-align: right;\">\n",
       "      <th></th>\n",
       "      <th>MONTH</th>\n",
       "      <th>U.S._STATE</th>\n",
       "      <th>CLIMATE.REGION</th>\n",
       "      <th>CLIMATE.CATEGORY</th>\n",
       "      <th>CUSTOMERS.AFFECTED</th>\n",
       "      <th>POPDEN_URBAN</th>\n",
       "      <th>POPDEN_UC</th>\n",
       "      <th>POPDEN_RURAL</th>\n",
       "      <th>CAUSE.CATEGORY</th>\n",
       "      <th>OUTAGE.HOUR</th>\n",
       "    </tr>\n",
       "    <tr>\n",
       "      <th>OBS</th>\n",
       "      <th></th>\n",
       "      <th></th>\n",
       "      <th></th>\n",
       "      <th></th>\n",
       "      <th></th>\n",
       "      <th></th>\n",
       "      <th></th>\n",
       "      <th></th>\n",
       "      <th></th>\n",
       "      <th></th>\n",
       "    </tr>\n",
       "  </thead>\n",
       "  <tbody>\n",
       "    <tr>\n",
       "      <th>1</th>\n",
       "      <td>7.0</td>\n",
       "      <td>Minnesota</td>\n",
       "      <td>East North Central</td>\n",
       "      <td>normal</td>\n",
       "      <td>70000.0</td>\n",
       "      <td>2279.0</td>\n",
       "      <td>1700.5</td>\n",
       "      <td>18.2</td>\n",
       "      <td>severe weather</td>\n",
       "      <td>17.0</td>\n",
       "    </tr>\n",
       "    <tr>\n",
       "      <th>2</th>\n",
       "      <td>5.0</td>\n",
       "      <td>Minnesota</td>\n",
       "      <td>East North Central</td>\n",
       "      <td>normal</td>\n",
       "      <td>NaN</td>\n",
       "      <td>2279.0</td>\n",
       "      <td>1700.5</td>\n",
       "      <td>18.2</td>\n",
       "      <td>intentional attack</td>\n",
       "      <td>18.0</td>\n",
       "    </tr>\n",
       "    <tr>\n",
       "      <th>3</th>\n",
       "      <td>10.0</td>\n",
       "      <td>Minnesota</td>\n",
       "      <td>East North Central</td>\n",
       "      <td>cold</td>\n",
       "      <td>70000.0</td>\n",
       "      <td>2279.0</td>\n",
       "      <td>1700.5</td>\n",
       "      <td>18.2</td>\n",
       "      <td>severe weather</td>\n",
       "      <td>20.0</td>\n",
       "    </tr>\n",
       "    <tr>\n",
       "      <th>4</th>\n",
       "      <td>6.0</td>\n",
       "      <td>Minnesota</td>\n",
       "      <td>East North Central</td>\n",
       "      <td>normal</td>\n",
       "      <td>68200.0</td>\n",
       "      <td>2279.0</td>\n",
       "      <td>1700.5</td>\n",
       "      <td>18.2</td>\n",
       "      <td>severe weather</td>\n",
       "      <td>4.0</td>\n",
       "    </tr>\n",
       "    <tr>\n",
       "      <th>5</th>\n",
       "      <td>7.0</td>\n",
       "      <td>Minnesota</td>\n",
       "      <td>East North Central</td>\n",
       "      <td>warm</td>\n",
       "      <td>250000.0</td>\n",
       "      <td>2279.0</td>\n",
       "      <td>1700.5</td>\n",
       "      <td>18.2</td>\n",
       "      <td>severe weather</td>\n",
       "      <td>2.0</td>\n",
       "    </tr>\n",
       "  </tbody>\n",
       "</table>\n",
       "</div>"
      ],
      "text/plain": [
       "0    MONTH U.S._STATE      CLIMATE.REGION CLIMATE.CATEGORY  \\\n",
       "OBS                                                          \n",
       "1      7.0  Minnesota  East North Central           normal   \n",
       "2      5.0  Minnesota  East North Central           normal   \n",
       "3     10.0  Minnesota  East North Central             cold   \n",
       "4      6.0  Minnesota  East North Central           normal   \n",
       "5      7.0  Minnesota  East North Central             warm   \n",
       "\n",
       "0    CUSTOMERS.AFFECTED  POPDEN_URBAN  POPDEN_UC  POPDEN_RURAL  \\\n",
       "OBS                                                              \n",
       "1               70000.0        2279.0     1700.5          18.2   \n",
       "2                   NaN        2279.0     1700.5          18.2   \n",
       "3               70000.0        2279.0     1700.5          18.2   \n",
       "4               68200.0        2279.0     1700.5          18.2   \n",
       "5              250000.0        2279.0     1700.5          18.2   \n",
       "\n",
       "0        CAUSE.CATEGORY  OUTAGE.HOUR  \n",
       "OBS                                   \n",
       "1        severe weather         17.0  \n",
       "2    intentional attack         18.0  \n",
       "3        severe weather         20.0  \n",
       "4        severe weather          4.0  \n",
       "5        severe weather          2.0  "
      ]
     },
     "execution_count": 117,
     "metadata": {},
     "output_type": "execute_result"
    }
   ],
   "source": [
    "# TODO\n",
    "\n",
    "# First filtered the dataset down to data I think would be available and useful for predicting the cause category of the outage\n",
    "\n",
    "df = outage[['MONTH', 'U.S._STATE', 'CLIMATE.REGION', 'CLIMATE.CATEGORY', 'CUSTOMERS.AFFECTED', 'POPDEN_URBAN', 'POPDEN_UC', 'POPDEN_RURAL','OUTAGE.START.TIME', 'CAUSE.CATEGORY']]\n",
    "# applied type transformations\n",
    "df['POPDEN_URBAN'] = df['POPDEN_URBAN'].apply(lambda x: float(x))\n",
    "df['POPDEN_UC'] = df['POPDEN_UC'].apply(lambda x: float(x))\n",
    "df['POPDEN_RURAL'] = df['POPDEN_RURAL'].apply(lambda x: float(x))\n",
    "df['CUSTOMERS.AFFECTED'] = df['CUSTOMERS.AFFECTED'].apply(lambda x: float(x))\n",
    "df['MONTH'] = df['MONTH'].apply(lambda x: float(x))\n",
    "df['OUTAGE.HOUR'] = df['OUTAGE.START.TIME'][df['OUTAGE.START.TIME'].notna()].apply(lambda x: x.hour)\n",
    "df = df.drop('OUTAGE.START.TIME', axis=1)\n",
    "df.head()\n"
   ]
  },
  {
   "cell_type": "code",
   "execution_count": 118,
   "metadata": {},
   "outputs": [
    {
     "name": "stdout",
     "output_type": "stream",
     "text": [
      "Training accuracy: 0.9879839786381842\n",
      "Testing accuracy: 0.6137071651090342\n"
     ]
    }
   ],
   "source": [
    "df = df.dropna()\n",
    "# get X and y \n",
    "X = df.drop('CAUSE.CATEGORY', axis=1)\n",
    "y = df['CAUSE.CATEGORY']\n",
    "\n",
    "X_train, X_test, y_train, y_test = train_test_split(X, y, test_size=0.3) # spliots it 70% train, 30% test\n",
    "\n",
    "# one hot encode nominal variables\n",
    "preproc = ColumnTransformer(transformers=[\n",
    "    ('ohe', OneHotEncoder(handle_unknown='ignore'), ['CLIMATE.REGION', 'U.S._STATE']),\n",
    "    ('ord', OrdinalEncoder(handle_unknown='use_encoded_value', unknown_value=-1), ['CLIMATE.CATEGORY']),\n",
    "    ('pass', FunctionTransformer(lambda x: x), ['MONTH', 'OUTAGE.HOUR'])\n",
    "    ]\n",
    ")\n",
    "\n",
    "# pipeline and predict using decision tree classifier with no max depth\n",
    "pl = Pipeline([\n",
    "    ('preproc', preproc),\n",
    "    ('tree-class', DecisionTreeClassifier())\n",
    "])\n",
    "\n",
    "pl.fit(X_train, y_train)\n",
    "\n",
    "print(f'Training accuracy: {pl.score(X_train, y_train)}\\nTesting accuracy: {pl.score(X_test, y_test)}')"
   ]
  },
  {
   "cell_type": "markdown",
   "metadata": {},
   "source": [
    "### Final Model"
   ]
  },
  {
   "cell_type": "code",
   "execution_count": 119,
   "metadata": {},
   "outputs": [
    {
     "name": "stdout",
     "output_type": "stream",
     "text": [
      "Training accuracy: 0.8744993324432577\n",
      "Testing accuracy: 0.8255451713395638\n"
     ]
    }
   ],
   "source": [
    "# TODO\n",
    "\n",
    "# get X and y \n",
    "df = df.dropna() # drop nan values\n",
    "X = df.drop('CAUSE.CATEGORY', axis=1)\n",
    "y = df['CAUSE.CATEGORY']\n",
    "\n",
    "X_train, X_test, y_train, y_test = train_test_split(X, y, test_size=0.3) # splits it 70% train, 30% test\n",
    "\n",
    "# one hot encode nominal variables\n",
    "preproc = ColumnTransformer(transformers=[\n",
    "    ('ohe', OneHotEncoder(handle_unknown='ignore'), ['CLIMATE.REGION', 'U.S._STATE']),\n",
    "    ('ord', OrdinalEncoder(handle_unknown='use_encoded_value', unknown_value=-1), ['CLIMATE.CATEGORY']),\n",
    "    ('scaler', StandardScaler(), ['CUSTOMERS.AFFECTED', 'POPDEN_URBAN',\t'POPDEN_UC', 'POPDEN_RURAL'])\n",
    "    ],\n",
    "    remainder='passthrough')\n",
    "\n",
    "\n",
    "hyperparameters = {\n",
    "    'max_depth': [2, 3, 4, 5, 7, 10, 13, 15, 18], \n",
    "}\n",
    "\n",
    "searcher = GridSearchCV(DecisionTreeClassifier(), hyperparameters, cv=5)\n",
    "\n",
    "# pipeline and predict using decision tree classifier with no max depth\n",
    "pl = Pipeline([\n",
    "    ('preproc', preproc),\n",
    "    ('tree-class', searcher)\n",
    "])\n",
    "pl.fit(X_train, y_train)\n",
    "y_pred = pl.predict(X_test)\n",
    "print(f'Training accuracy: {pl.score(X_train, y_train)}\\nTesting accuracy: {pl.score(X_test, y_test)}')"
   ]
  },
  {
   "cell_type": "markdown",
   "metadata": {},
   "source": [
    "### Fairness Evaluation"
   ]
  },
  {
   "cell_type": "code",
   "execution_count": 120,
   "metadata": {},
   "outputs": [
    {
     "name": "stdout",
     "output_type": "stream",
     "text": [
      "Observed precision:  0.14758111680812958\n"
     ]
    },
    {
     "data": {
      "image/png": "[encoded data removed]",
      "text/plain": [
       "<Figure size 500x300 with 1 Axes>"
      ]
     },
     "metadata": {
      "image/png": {
       "height": 296,
       "width": 462
      }
     },
     "output_type": "display_data"
    }
   ],
   "source": [
    "# TODO\n",
    "from sklearn import metrics\n",
    "\n",
    "more_affected = df['CUSTOMERS.AFFECTED'] >= df['CUSTOMERS.AFFECTED'].median() # Y\n",
    "\n",
    "# Null Hypothesis: my model is fair; the the precision for my two subsets are roughly the same\n",
    "\n",
    "# Alternative Hypothesis: my model is unfair; the precision for the old subset is higher than the young subset\n",
    "\n",
    "results = X_test\n",
    "results['more_affected'] = more_affected.replace({True: 'more', False: 'less'})\n",
    "results['prediction'] = y_pred\n",
    "results['cause'] = y_test\n",
    "\n",
    "r1 = results[results['more_affected'] == 'more']\n",
    "r2 = results[results['more_affected'] == 'less']\n",
    "# print ('More affected people precision: ',\n",
    "# metrics.precision_score(r1['prediction'], r1['cause'], average='weighted'), '\\nLess affected people precision: ',metrics.precision_score(r2['prediction'], r2['cause'], average='weighted'))\n",
    "\n",
    "obs = results.groupby('more_affected').apply(lambda x: metrics.precision_score(x['cause'], x['prediction'], average='weighted')).diff().iloc[-1]\n",
    "print('Observed precision: ',obs)\n",
    "diff_in_acc = []\n",
    "for _ in range(100):\n",
    "    s = (\n",
    "        results[['more_affected', 'prediction', 'cause']]\n",
    "        .assign(more_affected=results.more_affected.sample(frac=1.0, replace=False).reset_index(drop=True))\n",
    "        .groupby('more_affected')\n",
    "        .apply(lambda x: metrics.precision_score(x['cause'], x['prediction'], average='weighted'))\n",
    "        .diff()\n",
    "        .iloc[-1]\n",
    "    )\n",
    "    \n",
    "    diff_in_acc.append(s)\n",
    "\n",
    "plt.figure(figsize=(5, 3))\n",
    "pd.Series(diff_in_acc).plot(kind='hist', ec='w', density=True, bins=15, title='Difference in Precision (More People - Less People)')\n",
    "plt.axvline(x=obs, color='red', label='observed difference in precision')\n",
    "plt.legend(loc='upper left');\n"
   ]
  },
  {
   "cell_type": "code",
   "execution_count": null,
   "metadata": {},
   "outputs": [],
   "source": []
  }
 ],
 "metadata": {
  "kernelspec": {
   "display_name": "Python 3 (ipykernel)",
   "language": "python",
   "name": "python3"
  },
  "language_info": {
   "codemirror_mode": {
    "name": "ipython",
    "version": 3
   },
   "file_extension": ".py",
   "mimetype": "text/x-python",
   "name": "python",
   "nbconvert_exporter": "python",
   "pygments_lexer": "ipython3",
   "version": "3.8.13"
  }
 },
 "nbformat": 4,
 "nbformat_minor": 2
}
